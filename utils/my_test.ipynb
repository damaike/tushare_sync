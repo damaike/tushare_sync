{
 "cells": [
  {
   "cell_type": "code",
   "execution_count": 6,
   "metadata": {},
   "outputs": [
    {
     "name": "stdout",
     "output_type": "stream",
     "text": [
      "d:\\work\\tushare_sync\n"
     ]
    },
    {
     "data": {
      "text/plain": [
       "['ts_code',\n",
       " 'symbol',\n",
       " 'name',\n",
       " 'area',\n",
       " 'industry',\n",
       " 'fullname',\n",
       " 'enname',\n",
       " 'cnspell',\n",
       " 'market',\n",
       " 'exchange',\n",
       " 'curr_type',\n",
       " 'list_status',\n",
       " 'list_date',\n",
       " 'delist_date',\n",
       " 'is_hs']"
      ]
     },
     "execution_count": 6,
     "metadata": {},
     "output_type": "execute_result"
    }
   ],
   "source": [
    "import os, sys\n",
    "from utils.tushare_sync import TushareSync\n",
    "\n",
    "sync = TushareSync(\"stock_basic\", \"stock_basic\", \"trade_date\")\n",
    "sync._extract_fields_from_sql_script()\n"
   ]
  }
 ],
 "metadata": {
  "kernelspec": {
   "display_name": "Python 3",
   "language": "python",
   "name": "python3"
  },
  "language_info": {
   "codemirror_mode": {
    "name": "ipython",
    "version": 3
   },
   "file_extension": ".py",
   "mimetype": "text/x-python",
   "name": "python",
   "nbconvert_exporter": "python",
   "pygments_lexer": "ipython3",
   "version": "3.12.5"
  }
 },
 "nbformat": 4,
 "nbformat_minor": 2
}
