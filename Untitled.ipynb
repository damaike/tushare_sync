{
 "cells": [
  {
   "cell_type": "code",
   "execution_count": null,
   "id": "58009ca7-7f0c-40bb-9a47-691791d66628",
   "metadata": {},
   "outputs": [],
   "source": [
    "# 测试 _test_tushare\n",
    "import sys, os\n",
    "from utils.tushare_sync import *\n",
    "\n",
    "sync = TushareSync(\"stk_factor_pro\")\n",
    "sync._test_tushare(\"pro_bar\", {\"ts_code\": \"600000.SH\", \"trade_date\": \"20241204\"}, sync.fields)\n",
    "sync.query_tushare_oneday('20221101')\n",
    "\n"
   ]
  },
  {
   "cell_type": "code",
   "execution_count": 1,
   "id": "ea3b3c1e",
   "metadata": {},
   "outputs": [
    {
     "name": "stdout",
     "output_type": "stream",
     "text": [
      "DROP TABLE IF EXISTS `adj_factor`;\n",
      "CREATE TABLE `adj_factor` (\n",
      "    `ts_code` varchar(64) COMMENT '股票代码',\n",
      "    `trade_date` varchar(64) COMMENT '交易日期',\n",
      "    `adj_factor` double COMMENT '复权因子',\n",
      "    `created_time` datetime NOT NULL DEFAULT CURRENT_TIMESTAMP COMMENT '创建时间',\n",
      "    `updated_time` datetime NOT NULL DEFAULT CURRENT_TIMESTAMP ON UPDATE CURRENT_TIMESTAMP COMMENT '更新时间'\n",
      ") ENGINE=InnoDB DEFAULT CHARSET=utf8mb4 COMMENT='复权因子';\n",
      "\n"
     ]
    }
   ],
   "source": [
    "# 测试 convert_table_desc_to_sql\n",
    "import sys, os\n",
    "from utils.new_utils import convert_table_desc_to_sql\n",
    "\n",
    "str = \"\"\"\n",
    "adj_factor 复权因子\n",
    "ts_code\tstr\t股票代码\n",
    "trade_date\tstr\t交易日期\n",
    "adj_factor\tfloat\t复权因子\"\"\"\n",
    "\n",
    "print(convert_table_desc_to_sql(str))\n"
   ]
  },
  {
   "cell_type": "code",
   "execution_count": null,
   "id": "5ee1c06e",
   "metadata": {},
   "outputs": [],
   "source": [
    "# 测试 weekly 和 monthly，看如果每周/每月最后一天不是交易日，weekly/monthly 如何处理日期\n",
    "\n",
    "from utils.tushare_sync import TushareSync\n",
    "\n",
    "trade_cal = TushareSync(\"trade_cal\")\n",
    "montly = TushareSync(\"monthly\")\n",
    "\n",
    "# data = trade_cal.query_tushare_period(\"20241101\", \"20241201\")\n",
    "# data = trade_cal._test_tushare(\"trade_cal\", {\"start_date\": \"20241101\", \"end_date\": \"20241201\"}, trade_cal.fields)\n",
    "# data\n",
    "\n",
    "data = montly.query_tushare_period(\"20241101\", \"20241201\", ts_code=\"600036.SH\")\n",
    "# data = montly._test_tushare(\"monthly\", {\"trade_date\": \"20241101\"}, montly.fields)\n",
    "data\n"
   ]
  },
  {
   "cell_type": "code",
   "execution_count": null,
   "id": "4eaa9bdd",
   "metadata": {},
   "outputs": [],
   "source": [
    "# weekday 测试\n",
    "# ... existing code ...\n",
    "\n",
    "def get_weekday(date_str: str) -> int:\n",
    "    \"\"\"计算指定日期的星期数\n",
    "    \n",
    "    Args:\n",
    "        date_str: 日期字符串，格式为'YYYYMMDD'\n",
    "        \n",
    "    Returns:\n",
    "        int: 星期数（0-6，0表示星期一，6表示星期日）\n",
    "    \"\"\"\n",
    "    from datetime import datetime\n",
    "    date = datetime.strptime(date_str, '%Y%m%d')\n",
    "    # datetime的weekday()返回0-6，0表示星期一\n",
    "    return date.weekday()+1\n",
    "\n",
    "def show_weekday(date_str: str):\n",
    "    print(f\"{date_str} weekday: {get_weekday(date_str)}\")\n",
    "\n",
    "show_weekday(\"20241207\")\n",
    "show_weekday(\"20241208\")\n",
    "show_weekday(\"20241209\")\n",
    "\n",
    "# ... existing code ..."
   ]
  },
  {
   "cell_type": "code",
   "execution_count": null,
   "id": "06d404d3",
   "metadata": {},
   "outputs": [],
   "source": [
    "# 测试 week_of_year\n",
    "def get_week_of_year(date_str: str) -> int:\n",
    "    \"\"\"计算指定日期是当年的第几周\n",
    "    \n",
    "    Args:\n",
    "        date_str: 日期字符串，格式为'YYYYMMDD'\n",
    "        \n",
    "    Returns:\n",
    "        int: 周数（1-53）\n",
    "    \"\"\"\n",
    "    from datetime import datetime\n",
    "    date = datetime.strptime(date_str, '%Y%m%d')\n",
    "    # isocalendar()返回一个元组(year, week_number, weekday)\n",
    "    # week_number表示当年的第几周\n",
    "    return date.isocalendar()[1]\n",
    "\n",
    "def show_week_of_year(date_str: str):\n",
    "    print(f\"{date_str} week of year: {get_week_of_year(date_str)}\")\n",
    "\n",
    "show_week_of_year(\"20240101\")\n",
    "show_week_of_year(\"20241229\")\n",
    "show_week_of_year(\"20241231\")"
   ]
  },
  {
   "cell_type": "code",
   "execution_count": null,
   "id": "12fd5e48",
   "metadata": {},
   "outputs": [],
   "source": [
    "# 测试 TushareSync.update\n",
    "\n",
    "from utils.tushare_sync import *\n",
    "\n",
    "extra_params = {\"market\": \"E\", \"status\": \"L\"}\n",
    "fund_basic = TushareSync(\"fund_basic\", extra_params=extra_params)\n",
    "data = fund_basic.query_tushare_oneday(\"20241207\", extra_params=extra_params)\n",
    "df = data[['ts_code', 'name', 'market', 'status']]\n",
    "print(df)"
   ]
  },
  {
   "cell_type": "code",
   "execution_count": null,
   "id": "cc24f1fe",
   "metadata": {},
   "outputs": [],
   "source": [
    "# 测试 fund_nav\n",
    "from utils.tushare_sync import *\n",
    "extra_params = {\"market\": \"E\"}\n",
    "fund_nav = TushareSync(\"fund_nav\", extra_params=extra_params)\n",
    "data = fund_nav.query_tushare_oneday('20241206', extra_params=extra_params)\n",
    "data\n"
   ]
  },
  {
   "cell_type": "code",
   "execution_count": null,
   "id": "fabe65e2",
   "metadata": {},
   "outputs": [],
   "source": [
    "# 测试 sql脚本中参数\n",
    "from utils.tushare_sync import *\n",
    "fund_nav = TushareSync(\"fund_nav\")\n",
    "fund_nav.api_name, fund_nav.date_column, fund_nav.extra_params"
   ]
  },
  {
   "cell_type": "code",
   "execution_count": 7,
   "id": "67aea380",
   "metadata": {},
   "outputs": [
    {
     "name": "stdout",
     "output_type": "stream",
     "text": [
      "['many']\n"
     ]
    }
   ],
   "source": [
    "class A1:\n",
    "    X = \"many\"\n",
    "    arr = [X]\n",
    "\n",
    "\n",
    "print(A1.arr)"
   ]
  }
 ],
 "metadata": {
  "kernelspec": {
   "display_name": "Python 3 (ipykernel)",
   "language": "python",
   "name": "python3"
  },
  "language_info": {
   "codemirror_mode": {
    "name": "ipython",
    "version": 3
   },
   "file_extension": ".py",
   "mimetype": "text/x-python",
   "name": "python",
   "nbconvert_exporter": "python",
   "pygments_lexer": "ipython3",
   "version": "3.12.0"
  }
 },
 "nbformat": 4,
 "nbformat_minor": 5
}
