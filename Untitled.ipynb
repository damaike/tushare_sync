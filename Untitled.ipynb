{
 "cells": [
  {
   "cell_type": "code",
   "execution_count": null,
   "id": "58009ca7-7f0c-40bb-9a47-691791d66628",
   "metadata": {},
   "outputs": [],
   "source": [
    "import sys, os\n",
    "from utils.tushare_sync import *\n",
    "\n",
    "\n",
    "sync = TushareSync(\"stk_factor_pro\")\n",
    "sync._test_tushare(\"pro_bar\", {\"ts_code\": \"600000.SH\", \"trade_date\": \"20241204\"}, sync.fields)\n",
    "sync.query_tushare_oneday('20221101')\n",
    "\n"
   ]
  },
  {
   "cell_type": "code",
   "execution_count": 4,
   "id": "ea3b3c1e",
   "metadata": {},
   "outputs": [
    {
     "name": "stdout",
     "output_type": "stream",
     "text": [
      "DROP TABLE IF EXISTS `index_basic`;\n",
      "CREATE TABLE `index_basic` (\n",
      "    `ts_code` varchar(16) COMMENT 'TS代码',\n",
      "    `name` varchar(16) COMMENT '简称',\n",
      "    `fullname` varchar(16) COMMENT '指数全称',\n",
      "    `market` varchar(16) COMMENT '市场',\n",
      "    `publisher` varchar(16) COMMENT '发布方',\n",
      "    `index_type` varchar(16) COMMENT '指数风格',\n",
      "    `category` varchar(16) COMMENT '指数类别',\n",
      "    `base_date` varchar(16) COMMENT '基期',\n",
      "    `base_point` double COMMENT '基点',\n",
      "    `list_date` varchar(16) COMMENT '发布日期',\n",
      "    `weight_rule` varchar(16) COMMENT '加权方式',\n",
      "    `desc` varchar(16) COMMENT '描述',\n",
      "    `exp_date` varchar(16) COMMENT '终止日期',\n",
      "    `created_time` datetime NOT NULL DEFAULT CURRENT_TIMESTAMP COMMENT '创建时间',\n",
      "    `updated_time` datetime NOT NULL DEFAULT CURRENT_TIMESTAMP ON UPDATE CURRENT_TIMESTAMP COMMENT '更新时间'\n",
      ") ENGINE=InnoDB DEFAULT CHARSET=utf8mb4 COMMENT='指数基本信息';\n",
      "\n"
     ]
    }
   ],
   "source": [
    "import sys, os\n",
    "from utils.new_utils import convert_table_desc_to_sql\n",
    "\n",
    "test_desc = \"\"\"\n",
    "index_basic 指数基本信息\n",
    "ts_code\tstr\tTS代码\n",
    "name\tstr\t简称\n",
    "fullname\tstr\t指数全称\n",
    "market\tstr\t市场\n",
    "publisher\tstr\t发布方\n",
    "index_type\tstr\t指数风格\n",
    "category\tstr\t指数类别\n",
    "base_date\tstr\t基期\n",
    "base_point\tfloat\t基点\n",
    "list_date\tstr\t发布日期\n",
    "weight_rule\tstr\t加权方式\n",
    "desc\tstr\t描述\n",
    "exp_date\tstr\t终止日期\"\"\"\n",
    "\n",
    "print(convert_table_desc_to_sql(test_desc))\n"
   ]
  }
 ],
 "metadata": {
  "kernelspec": {
   "display_name": "Python 3 (ipykernel)",
   "language": "python",
   "name": "python3"
  },
  "language_info": {
   "codemirror_mode": {
    "name": "ipython",
    "version": 3
   },
   "file_extension": ".py",
   "mimetype": "text/x-python",
   "name": "python",
   "nbconvert_exporter": "python",
   "pygments_lexer": "ipython3",
   "version": "3.12.5"
  }
 },
 "nbformat": 4,
 "nbformat_minor": 5
}
