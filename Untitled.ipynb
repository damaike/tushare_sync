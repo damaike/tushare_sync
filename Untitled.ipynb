{
 "cells": [
  {
   "cell_type": "code",
   "execution_count": null,
   "id": "58009ca7-7f0c-40bb-9a47-691791d66628",
   "metadata": {},
   "outputs": [],
   "source": [
    "# 测试 _test_tushare\n",
    "import sys, os\n",
    "from utils.tushare_sync import *\n",
    "\n",
    "sync = TushareSync(\"stk_factor_pro\")\n",
    "sync._test_tushare(\"pro_bar\", {\"ts_code\": \"600000.SH\", \"trade_date\": \"20241204\"}, sync.fields)\n",
    "sync.query_tushare_oneday('20221101')\n",
    "\n"
   ]
  },
  {
   "cell_type": "code",
   "execution_count": null,
   "id": "ea3b3c1e",
   "metadata": {},
   "outputs": [],
   "source": [
    "# 测试 convert_table_desc_to_sql\n",
    "import sys, os\n",
    "from utils.new_utils import convert_table_desc_to_sql\n",
    "\n",
    "index_basic_str = \"\"\"\n",
    "index_basic 指数基本信息\n",
    "ts_code\tstr\tTS代码\n",
    "name\tstr\t简称\n",
    "fullname\tstr\t指数全称\n",
    "market\tstr\t市场\n",
    "publisher\tstr\t发布方\n",
    "index_type\tstr\t指数风格\n",
    "category\tstr\t指数类别\n",
    "base_date\tstr\t基期\n",
    "base_point\tfloat\t基点\n",
    "list_date\tstr\t发布日期\n",
    "weight_rule\tstr\t加权方式\n",
    "desc\tstr\t描述\n",
    "exp_date\tstr\t终止日期\"\"\"\n",
    "\n",
    "fund_basic_str = \"\"\"\n",
    "fund_basic 基金基本信息\n",
    "ts_code\tstr\t基金代码\n",
    "name\tstr\t简称\n",
    "management\tstr\t管理人\n",
    "custodian\tstr\t托管人\n",
    "fund_type\tstr\t投资类型\n",
    "found_date\tstr\t成立日期\n",
    "due_date\tstr\t到期日期\n",
    "list_date\tstr\t上市时间\n",
    "issue_date\tstr\t发行日期\n",
    "delist_date\tstr\t退市日期\n",
    "issue_amount\tfloat\t发行份额(亿)\n",
    "m_fee\tfloat\t管理费\n",
    "c_fee\tfloat\t托管费\n",
    "duration_year\tfloat\t存续期\n",
    "p_value\tfloat\t面值\n",
    "min_amount\tfloat\t起点金额(万元)\n",
    "exp_return\tfloat\t预期收益率\n",
    "benchmark\tstr\t业绩比较基准\n",
    "status\tstr\t存续状态D摘牌 I发行 L已上市\n",
    "invest_type\tstr\t投资风格\n",
    "type\tstr\t基金类型\n",
    "trustee\tstr\t受托人\n",
    "purc_startdate\tstr\t日常申购起始日\n",
    "redm_startdate\tstr\t日常赎回起始日\n",
    "market\tstr\tE场内O场外\"\"\"\n",
    "\n",
    "fund_nav_str = \"\"\"\n",
    "fund_nav 基金净值\n",
    "ts_code\tstr\tTS代码\n",
    "ann_date\tstr\t公告日期\n",
    "nav_date\tstr\t净值日期\n",
    "unit_nav\tfloat\t单位净值\n",
    "accum_nav\tfloat\t累计净值\n",
    "accum_div\tfloat\t累计分红\n",
    "net_asset\tfloat\t资产净值\n",
    "total_netasset\tfloat\t合计资产净值\n",
    "adj_nav\tfloat\t复权单位净值\n",
    "\"\"\"\n",
    "\n",
    "print(convert_table_desc_to_sql(fund_nav_str))\n"
   ]
  },
  {
   "cell_type": "code",
   "execution_count": null,
   "id": "5ee1c06e",
   "metadata": {},
   "outputs": [],
   "source": [
    "# 测试 weekly 和 monthly，看如果每周/每月最后一天不是交易日，weekly/monthly 如何处理日期\n",
    "\n",
    "from utils.tushare_sync import TushareSync\n",
    "\n",
    "trade_cal = TushareSync(\"trade_cal\")\n",
    "montly = TushareSync(\"monthly\")\n",
    "\n",
    "# data = trade_cal.query_tushare_period(\"20241101\", \"20241201\")\n",
    "# data = trade_cal._test_tushare(\"trade_cal\", {\"start_date\": \"20241101\", \"end_date\": \"20241201\"}, trade_cal.fields)\n",
    "# data\n",
    "\n",
    "data = montly.query_tushare_period(\"20241101\", \"20241201\", ts_code=\"600036.SH\")\n",
    "# data = montly._test_tushare(\"monthly\", {\"trade_date\": \"20241101\"}, montly.fields)\n",
    "data\n"
   ]
  },
  {
   "cell_type": "code",
   "execution_count": null,
   "id": "4eaa9bdd",
   "metadata": {},
   "outputs": [],
   "source": [
    "# weekday 测试\n",
    "# ... existing code ...\n",
    "\n",
    "def get_weekday(date_str: str) -> int:\n",
    "    \"\"\"计算指定日期的星期数\n",
    "    \n",
    "    Args:\n",
    "        date_str: 日期字符串，格式为'YYYYMMDD'\n",
    "        \n",
    "    Returns:\n",
    "        int: 星期数（0-6，0表示星期一，6表示星期日）\n",
    "    \"\"\"\n",
    "    from datetime import datetime\n",
    "    date = datetime.strptime(date_str, '%Y%m%d')\n",
    "    # datetime的weekday()返回0-6，0表示星期一\n",
    "    return date.weekday()+1\n",
    "\n",
    "def show_weekday(date_str: str):\n",
    "    print(f\"{date_str} weekday: {get_weekday(date_str)}\")\n",
    "\n",
    "show_weekday(\"20241207\")\n",
    "show_weekday(\"20241208\")\n",
    "show_weekday(\"20241209\")\n",
    "\n",
    "# ... existing code ..."
   ]
  },
  {
   "cell_type": "code",
   "execution_count": null,
   "id": "06d404d3",
   "metadata": {},
   "outputs": [],
   "source": [
    "# 测试 week_of_year\n",
    "def get_week_of_year(date_str: str) -> int:\n",
    "    \"\"\"计算指定日期是当年的第几周\n",
    "    \n",
    "    Args:\n",
    "        date_str: 日期字符串，格式为'YYYYMMDD'\n",
    "        \n",
    "    Returns:\n",
    "        int: 周数（1-53）\n",
    "    \"\"\"\n",
    "    from datetime import datetime\n",
    "    date = datetime.strptime(date_str, '%Y%m%d')\n",
    "    # isocalendar()返回一个元组(year, week_number, weekday)\n",
    "    # week_number表示当年的第几周\n",
    "    return date.isocalendar()[1]\n",
    "\n",
    "def show_week_of_year(date_str: str):\n",
    "    print(f\"{date_str} week of year: {get_week_of_year(date_str)}\")\n",
    "\n",
    "show_week_of_year(\"20240101\")\n",
    "show_week_of_year(\"20241229\")\n",
    "show_week_of_year(\"20241231\")"
   ]
  },
  {
   "cell_type": "code",
   "execution_count": null,
   "id": "12fd5e48",
   "metadata": {},
   "outputs": [],
   "source": [
    "# 测试 TushareSync.update\n",
    "\n",
    "from utils.tushare_sync import *\n",
    "\n",
    "extra_params = {\"market\": \"E\", \"status\": \"L\"}\n",
    "fund_basic = TushareSync(\"fund_basic\", extra_params=extra_params)\n",
    "data = fund_basic.query_tushare_oneday(\"20241207\", extra_params=extra_params)\n",
    "df = data[['ts_code', 'name', 'market', 'status']]\n",
    "print(df)"
   ]
  },
  {
   "cell_type": "code",
   "execution_count": null,
   "id": "cc24f1fe",
   "metadata": {},
   "outputs": [],
   "source": [
    "# 测试 fund_nav\n",
    "from utils.tushare_sync import *\n",
    "extra_params = {\"market\": \"E\"}\n",
    "fund_nav = TushareSync(\"fund_nav\", extra_params=extra_params)\n",
    "data = fund_nav.query_tushare_oneday('20241206', extra_params=extra_params)\n",
    "data\n"
   ]
  },
  {
   "cell_type": "code",
   "execution_count": 2,
   "id": "fabe65e2",
   "metadata": {},
   "outputs": [
    {
     "data": {
      "text/plain": [
       "('test_name', 'nav_date', {'market': 'E'})"
      ]
     },
     "execution_count": 2,
     "metadata": {},
     "output_type": "execute_result"
    }
   ],
   "source": [
    "# 测试 sql脚本中参数\n",
    "from utils.tushare_sync import *\n",
    "fund_nav = TushareSync(\"fund_nav\")\n",
    "fund_nav.api_name, fund_nav.date_column, fund_nav.extra_params"
   ]
  }
 ],
 "metadata": {
  "kernelspec": {
   "display_name": "Python 3 (ipykernel)",
   "language": "python",
   "name": "python3"
  },
  "language_info": {
   "codemirror_mode": {
    "name": "ipython",
    "version": 3
   },
   "file_extension": ".py",
   "mimetype": "text/x-python",
   "name": "python",
   "nbconvert_exporter": "python",
   "pygments_lexer": "ipython3",
   "version": "3.12.0"
  }
 },
 "nbformat": 4,
 "nbformat_minor": 5
}
