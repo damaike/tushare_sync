{
 "cells": [
  {
   "cell_type": "code",
   "execution_count": 5,
   "id": "58009ca7-7f0c-40bb-9a47-691791d66628",
   "metadata": {},
   "outputs": [
    {
     "name": "stdout",
     "output_type": "stream",
     "text": [
      "d:\\work\\tushare_sync\n"
     ]
    }
   ],
   "source": [
    "import sys, os\n",
    "\n",
    "tushare_sync_dir = 'd:/work/tushare_sync'\n",
    "\n",
    "sys.path.append(os.path.join(tushare_sync_dir, 'utils'))\n",
    "os.chdir(tushare_sync_dir)\n",
    "\n",
    "print(os.getcwd())\n",
    "\n",
    "\n",
    "\n",
    "\n"
   ]
  },
  {
   "cell_type": "code",
   "execution_count": null,
   "id": "17d7583f-6de6-4034-83be-32e54a83814e",
   "metadata": {},
   "outputs": [],
   "source": []
  }
 ],
 "metadata": {
  "kernelspec": {
   "display_name": "Python 3 (ipykernel)",
   "language": "python",
   "name": "python3"
  },
  "language_info": {
   "codemirror_mode": {
    "name": "ipython",
    "version": 3
   },
   "file_extension": ".py",
   "mimetype": "text/x-python",
   "name": "python",
   "nbconvert_exporter": "python",
   "pygments_lexer": "ipython3",
   "version": "3.12.5"
  }
 },
 "nbformat": 4,
 "nbformat_minor": 5
}
