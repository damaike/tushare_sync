{
 "cells": [
  {
   "cell_type": "code",
   "execution_count": 7,
   "id": "58009ca7-7f0c-40bb-9a47-691791d66628",
   "metadata": {},
   "outputs": [
    {
     "name": "stdout",
     "output_type": "stream",
     "text": [
      "d:\\work\\tushare_sync\n",
      "<bound method TushareSync._extract_fields_from_sql_script of <tushare_sync.TushareSync object at 0x000001EBECD31EE0>>\n"
     ]
    },
    {
     "ename": "UnboundLocalError",
     "evalue": "cannot access local variable 'cfg' where it is not associated with a value",
     "output_type": "error",
     "traceback": [
      "\u001b[1;31m---------------------------------------------------------------------------\u001b[0m",
      "\u001b[1;31mUnboundLocalError\u001b[0m                         Traceback (most recent call last)",
      "Cell \u001b[1;32mIn[7], line 24\u001b[0m\n\u001b[0;32m     20\u001b[0m     sync\u001b[38;5;241m.\u001b[39mlog_error(\u001b[38;5;124m\"\u001b[39m\u001b[38;5;124mtest log error\u001b[39m\u001b[38;5;124m\"\u001b[39m)\n\u001b[0;32m     23\u001b[0m \u001b[38;5;66;03m# test_get_fields()\u001b[39;00m\n\u001b[1;32m---> 24\u001b[0m \u001b[43mtushare_sync\u001b[49m\u001b[38;5;241;43m.\u001b[39;49m\u001b[43mtest_log\u001b[49m\u001b[43m(\u001b[49m\u001b[43m)\u001b[49m\n",
      "File \u001b[1;32md:\\work/tushare_sync\\utils\\tushare_sync.py:436\u001b[0m, in \u001b[0;36mtest_log\u001b[1;34m()\u001b[0m\n\u001b[0;32m    434\u001b[0m \u001b[38;5;28;01mdef\u001b[39;00m \u001b[38;5;21mtest_log\u001b[39m():\n\u001b[0;32m    435\u001b[0m     sync \u001b[38;5;241m=\u001b[39m TushareSync(\u001b[38;5;124m\"\u001b[39m\u001b[38;5;124mstock_basic\u001b[39m\u001b[38;5;124m\"\u001b[39m, \u001b[38;5;124m\"\u001b[39m\u001b[38;5;124mstock_basic\u001b[39m\u001b[38;5;124m\"\u001b[39m, \u001b[38;5;124m\"\u001b[39m\u001b[38;5;124mtrade_date\u001b[39m\u001b[38;5;124m\"\u001b[39m)\n\u001b[1;32m--> 436\u001b[0m     \u001b[38;5;28mprint\u001b[39m(sync\u001b[38;5;241m.\u001b[39m_extract_fields_from_sql_script)\n\u001b[0;32m    437\u001b[0m     sync\u001b[38;5;241m.\u001b[39mlog_info(\u001b[38;5;124m\"\u001b[39m\u001b[38;5;124mtest log info\u001b[39m\u001b[38;5;124m\"\u001b[39m)\n\u001b[0;32m    438\u001b[0m     sync\u001b[38;5;241m.\u001b[39mlog_warn(\u001b[38;5;124m\"\u001b[39m\u001b[38;5;124mtest log warn\u001b[39m\u001b[38;5;124m\"\u001b[39m)\n",
      "File \u001b[1;32md:\\work/tushare_sync\\utils\\tushare_sync.py:226\u001b[0m, in \u001b[0;36mTushareSync.log_info\u001b[1;34m(self, msg)\u001b[0m\n\u001b[0;32m    225\u001b[0m \u001b[38;5;28;01mdef\u001b[39;00m \u001b[38;5;21mlog_info\u001b[39m(\u001b[38;5;28mself\u001b[39m, msg):\n\u001b[1;32m--> 226\u001b[0m     \u001b[38;5;28;43mself\u001b[39;49m\u001b[38;5;241;43m.\u001b[39;49m\u001b[43mget_logger\u001b[49m\u001b[43m(\u001b[49m\u001b[43m)\u001b[49m\u001b[38;5;241m.\u001b[39minfo(msg)\n",
      "File \u001b[1;32md:\\work/tushare_sync\\utils\\tushare_sync.py:240\u001b[0m, in \u001b[0;36mTushareSync.get_logger\u001b[1;34m(self)\u001b[0m\n\u001b[0;32m    237\u001b[0m     \u001b[38;5;28;01mreturn\u001b[39;00m \u001b[38;5;28mself\u001b[39m\u001b[38;5;241m.\u001b[39m_logger\n\u001b[0;32m    239\u001b[0m log_name \u001b[38;5;241m=\u001b[39m \u001b[38;5;28mself\u001b[39m\u001b[38;5;241m.\u001b[39mtable_name\n\u001b[1;32m--> 240\u001b[0m file_name \u001b[38;5;241m=\u001b[39m \u001b[43mcfg\u001b[49m[\u001b[38;5;124m'\u001b[39m\u001b[38;5;124mlogging\u001b[39m\u001b[38;5;124m'\u001b[39m][\u001b[38;5;124m'\u001b[39m\u001b[38;5;124mfilename\u001b[39m\u001b[38;5;124m'\u001b[39m]\n\u001b[0;32m    242\u001b[0m cfg \u001b[38;5;241m=\u001b[39m \u001b[38;5;28mself\u001b[39m\u001b[38;5;241m.\u001b[39mget_cfg()    \n\u001b[0;32m    243\u001b[0m log_level \u001b[38;5;241m=\u001b[39m cfg[\u001b[38;5;124m'\u001b[39m\u001b[38;5;124mlogging\u001b[39m\u001b[38;5;124m'\u001b[39m][\u001b[38;5;124m'\u001b[39m\u001b[38;5;124mlevel\u001b[39m\u001b[38;5;124m'\u001b[39m]\n",
      "\u001b[1;31mUnboundLocalError\u001b[0m: cannot access local variable 'cfg' where it is not associated with a value"
     ]
    }
   ],
   "source": [
    "import sys, os\n",
    "import tushare_sync\n",
    "from tushare_sync import TushareSync\n",
    "\n",
    "tushare_sync_dir = 'd:/work/tushare_sync'\n",
    "\n",
    "sys.path.append(os.path.join(tushare_sync_dir, 'utils'))\n",
    "os.chdir(tushare_sync_dir)\n",
    "\n",
    "print(os.getcwd())\n",
    "\n",
    "def test_get_fields():\n",
    "    basic_sync = TushareSync(\"stock_basic\", \"stock_basic\", \"trade_date\")\n",
    "    print(basic_sync._extract_fields_from_sql_script())\n",
    "\n",
    "def test_log():\n",
    "    sync = TushareSync(\"stock_basic\", \"stock_basic\", \"trade_date\")\n",
    "    sync.log_info(\"test log info\")\n",
    "    sync.log_warn(\"test log warn\")\n",
    "    sync.log_error(\"test log error\")\n",
    "\n",
    "\n",
    "# test_get_fields()\n",
    "test_log()\n",
    "\n",
    "\n",
    "\n",
    "\n",
    "\n"
   ]
  },
  {
   "cell_type": "code",
   "execution_count": null,
   "id": "17d7583f-6de6-4034-83be-32e54a83814e",
   "metadata": {},
   "outputs": [],
   "source": []
  }
 ],
 "metadata": {
  "kernelspec": {
   "display_name": "Python 3 (ipykernel)",
   "language": "python",
   "name": "python3"
  },
  "language_info": {
   "codemirror_mode": {
    "name": "ipython",
    "version": 3
   },
   "file_extension": ".py",
   "mimetype": "text/x-python",
   "name": "python",
   "nbconvert_exporter": "python",
   "pygments_lexer": "ipython3",
   "version": "3.12.5"
  }
 },
 "nbformat": 4,
 "nbformat_minor": 5
}
